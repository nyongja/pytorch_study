{
 "cells": [
  {
   "cell_type": "markdown",
   "metadata": {},
   "source": [
    "# 01. 파이토치 패키지의 기본 구성\n",
    "\n",
    "## 1. torch\n",
    "메인 네임스페이스.  \n",
    "tensor 등의 다양한 수학 함수가 포함되어져 있으며 Numpy와 유사한 구조.  \n",
    "\n",
    "\n",
    "## 2. torch.autograd\n",
    "자동 미분을 위한 함수들이 포함되어 있음.  \n",
    "자동 미분의 on/off를 제어하는 콘텍스트 매니저(enable_grad / no_grad)나 자체 미분 가능 함수를 정의할 때 사용하는 기반 클래스인 'Function'등이 포함되어져 있음.  \n",
    "\n",
    "\n",
    "## 3. torch.nn\n",
    "신경망을 구축하기 위한 다양한 데이터 구조나 레이어 등이 정의되어져 있음.  \n",
    "e.g. RNN, LSTM과 같은 레이어, ReLU와 같은 활성화 함수, MSELoss와 같은 손실 함수.  \n",
    "\n",
    "## 4. torch.optim\n",
    "SGD(Stochastic Gradient Descent, 확률적 경사 하강법)를 중심으로 한 parameter 최적화 알고리즘 구현되어 있음.  \n",
    "\n",
    "## 5. torch.utils.data\n",
    "SGD의 반복 연산을 실행할 때 사용하는 미니 배치용 유틸리티 함수가 포함.  \n",
    "\n",
    "## 6. torch.onnx \n",
    "ONNX(Open Neural Network Exchange)의 포맷.  \n",
    "모델을 export 시 사용.  \n",
    "ONNX는 서로 다른 딥 러닝 프레임워크 간 모델을 공유할 때 사용하는 포맷.  "
   ]
  }
 ],
 "metadata": {
  "kernelspec": {
   "display_name": "Python 3",
   "language": "python",
   "name": "python3"
  },
  "language_info": {
   "codemirror_mode": {
    "name": "ipython",
    "version": 3
   },
   "file_extension": ".py",
   "mimetype": "text/x-python",
   "name": "python",
   "nbconvert_exporter": "python",
   "pygments_lexer": "ipython3",
   "version": "3.8.3"
  }
 },
 "nbformat": 4,
 "nbformat_minor": 4
}
